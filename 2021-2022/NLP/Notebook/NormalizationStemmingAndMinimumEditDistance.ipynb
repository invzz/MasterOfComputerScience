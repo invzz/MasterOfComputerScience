{
  "nbformat": 4,
  "nbformat_minor": 0,
  "metadata": {
    "colab": {
      "name": "NormalizationStemmingAndMinimumEditDistance.ipynb",
      "provenance": []
    },
    "kernelspec": {
      "name": "python3",
      "display_name": "Python 3"
    }
  },
  "cells": [
    {
      "cell_type": "code",
      "metadata": {
        "id": "kyPmVrKtBBmW",
        "colab": {
          "base_uri": "https://localhost:8080/"
        },
        "outputId": "c10c4fd2-73d8-4c95-9298-e191a6c9304f"
      },
      "source": [
        "# To execute the file: execfile(r'./textNormalization.py')\n",
        "\n",
        "import nltk\n",
        "#from nltk.corpus import gutenberg\n",
        "\n",
        "\n",
        "\n",
        "#------------------ REMOVING UPPER CASE LETTERS -------------------#\n",
        "\n",
        "# code example: case removal\n",
        "originalstr = 'Call me Ishmael. Some years ago - never mind how long precisely - having little or no money in my purse, and nothing particular to interest me on shore, I thought I would sail about a little and see the watery part of the world. It is a way I have of driving off the spleen and regulating the circulation. Whenever I find myself growing grim about the mouth; whenever it is a damp, drizzly November in my soul; whenever I find myself involuntarily pausing before coffin warehouses, and bringing up the rear of every funeral I meet; and especially whenever my hypos get such an upper hand of me, that it requires a strong moral principle to prevent me from deliberately stepping into the street, and methodically knocking people s hats off - then, I account it high time to get to sea as soon as I can. This is my substitute for pistol and ball. With a philosophical flourish Cato throws himself upon his sword; I quietly take to the ship. There is nothing surprising in this. If they but knew it, almost all men in their degree, some time or other, cherish very nearly the same feelings towards the ocean with me. '\n",
        "lowstr = originalstr.lower()\n",
        "print(\"UPPERCASE:\\n\", originalstr, \"\\n\\nlowercase:\\n\", lowstr)\n",
        "\n",
        "\n",
        "#------------------ USING THE PORTER STEMMER -------------------#\n",
        "\n",
        "def stem_with_porter(words):\n",
        "    porter = nltk.PorterStemmer()\n",
        "    new_words = [str(porter.stem(w)) for w in words]\n",
        "    return new_words\n",
        "    \n",
        "print(\"\\n\\nSTEMMING WITH PORTER ALGORITHM:\\n\", stem_with_porter(lowstr.split()))\n",
        "\n",
        "#------------------ EDITING THE DISTANCE BETWEEN TWO STRINGS -------------------#\n",
        "\n",
        "# Install only once by decommenting the three lines below\n",
        "!pip install editdistance\n",
        "!pip install python-Levenshtein==0.12.0\n",
        "!pip install jellyfish\n",
        "import editdistance \n",
        "import Levenshtein\n",
        "import jellyfish\n",
        "\n",
        "print(\"\\n\\nMINIMUM EDIT DISTANCE with editdistance.eval between intention and execution is \")\n",
        "print(editdistance.eval('intention', 'execution'))\n",
        "\n",
        "print(\"\\n\\nLEVENSHTEIN EDIT DISTANCE with Levenshtein.distance between intention and execution is \")\n",
        "print(Levenshtein.distance('intention', 'execution'))\n",
        "\n",
        "print(\"\\n\\nLEVENSHTEIN EDIT DISTANCE with jellyfish.levenshtein_distance between intention and execution is \")\n",
        "print(jellyfish.levenshtein_distance('intention', 'execution'))"
      ],
      "execution_count": null,
      "outputs": [
        {
          "output_type": "stream",
          "name": "stdout",
          "text": [
            "UPPERCASE:\n",
            " Call me Ishmael. Some years ago - never mind how long precisely - having little or no money in my purse, and nothing particular to interest me on shore, I thought I would sail about a little and see the watery part of the world. It is a way I have of driving off the spleen and regulating the circulation. Whenever I find myself growing grim about the mouth; whenever it is a damp, drizzly November in my soul; whenever I find myself involuntarily pausing before coffin warehouses, and bringing up the rear of every funeral I meet; and especially whenever my hypos get such an upper hand of me, that it requires a strong moral principle to prevent me from deliberately stepping into the street, and methodically knocking people s hats off - then, I account it high time to get to sea as soon as I can. This is my substitute for pistol and ball. With a philosophical flourish Cato throws himself upon his sword; I quietly take to the ship. There is nothing surprising in this. If they but knew it, almost all men in their degree, some time or other, cherish very nearly the same feelings towards the ocean with me.  \n",
            "\n",
            "lowercase:\n",
            " call me ishmael. some years ago - never mind how long precisely - having little or no money in my purse, and nothing particular to interest me on shore, i thought i would sail about a little and see the watery part of the world. it is a way i have of driving off the spleen and regulating the circulation. whenever i find myself growing grim about the mouth; whenever it is a damp, drizzly november in my soul; whenever i find myself involuntarily pausing before coffin warehouses, and bringing up the rear of every funeral i meet; and especially whenever my hypos get such an upper hand of me, that it requires a strong moral principle to prevent me from deliberately stepping into the street, and methodically knocking people s hats off - then, i account it high time to get to sea as soon as i can. this is my substitute for pistol and ball. with a philosophical flourish cato throws himself upon his sword; i quietly take to the ship. there is nothing surprising in this. if they but knew it, almost all men in their degree, some time or other, cherish very nearly the same feelings towards the ocean with me. \n",
            "\n",
            "\n",
            "STEMMING WITH PORTER ALGORITHM:\n",
            " ['call', 'me', 'ishmael.', 'some', 'year', 'ago', '-', 'never', 'mind', 'how', 'long', 'precis', '-', 'have', 'littl', 'or', 'no', 'money', 'in', 'my', 'purse,', 'and', 'noth', 'particular', 'to', 'interest', 'me', 'on', 'shore,', 'i', 'thought', 'i', 'would', 'sail', 'about', 'a', 'littl', 'and', 'see', 'the', 'wateri', 'part', 'of', 'the', 'world.', 'it', 'is', 'a', 'way', 'i', 'have', 'of', 'drive', 'off', 'the', 'spleen', 'and', 'regul', 'the', 'circulation.', 'whenev', 'i', 'find', 'myself', 'grow', 'grim', 'about', 'the', 'mouth;', 'whenev', 'it', 'is', 'a', 'damp,', 'drizzli', 'novemb', 'in', 'my', 'soul;', 'whenev', 'i', 'find', 'myself', 'involuntarili', 'paus', 'befor', 'coffin', 'warehouses,', 'and', 'bring', 'up', 'the', 'rear', 'of', 'everi', 'funer', 'i', 'meet;', 'and', 'especi', 'whenev', 'my', 'hypo', 'get', 'such', 'an', 'upper', 'hand', 'of', 'me,', 'that', 'it', 'requir', 'a', 'strong', 'moral', 'principl', 'to', 'prevent', 'me', 'from', 'deliber', 'step', 'into', 'the', 'street,', 'and', 'method', 'knock', 'peopl', 's', 'hat', 'off', '-', 'then,', 'i', 'account', 'it', 'high', 'time', 'to', 'get', 'to', 'sea', 'as', 'soon', 'as', 'i', 'can.', 'thi', 'is', 'my', 'substitut', 'for', 'pistol', 'and', 'ball.', 'with', 'a', 'philosoph', 'flourish', 'cato', 'throw', 'himself', 'upon', 'hi', 'sword;', 'i', 'quietli', 'take', 'to', 'the', 'ship.', 'there', 'is', 'noth', 'surpris', 'in', 'this.', 'if', 'they', 'but', 'knew', 'it,', 'almost', 'all', 'men', 'in', 'their', 'degree,', 'some', 'time', 'or', 'other,', 'cherish', 'veri', 'nearli', 'the', 'same', 'feel', 'toward', 'the', 'ocean', 'with', 'me.']\n",
            "Requirement already satisfied: editdistance in /usr/local/lib/python3.7/dist-packages (0.5.3)\n",
            "Requirement already satisfied: python-Levenshtein==0.12.0 in /usr/local/lib/python3.7/dist-packages (0.12.0)\n",
            "Requirement already satisfied: setuptools in /usr/local/lib/python3.7/dist-packages (from python-Levenshtein==0.12.0) (57.4.0)\n",
            "Requirement already satisfied: jellyfish in /usr/local/lib/python3.7/dist-packages (0.8.8)\n",
            "\n",
            "\n",
            "MINIMUM EDIT DISTANCE with editdistance.eval between intention and execution is \n",
            "5\n",
            "\n",
            "\n",
            "LEVENSHTEIN EDIT DISTANCE with Levenshtein.distance between intention and execution is \n",
            "5\n",
            "\n",
            "\n",
            "LEVENSHTEIN EDIT DISTANCE with jellyfish.levenshtein_distance between intention and execution is \n",
            "5\n"
          ]
        }
      ]
    },
    {
      "cell_type": "code",
      "metadata": {
        "id": "jDZ09jlATeTV"
      },
      "source": [
        ""
      ],
      "execution_count": null,
      "outputs": []
    },
    {
      "cell_type": "code",
      "metadata": {
        "id": "kT7L_VI3Tdeh"
      },
      "source": [
        ""
      ],
      "execution_count": null,
      "outputs": []
    }
  ]
}