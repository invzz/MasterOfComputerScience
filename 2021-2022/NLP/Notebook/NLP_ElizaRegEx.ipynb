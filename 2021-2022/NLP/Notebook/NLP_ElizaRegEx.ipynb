{
  "nbformat": 4,
  "nbformat_minor": 0,
  "metadata": {
    "colab": {
      "name": "NLP-ElizaRegEx.ipynb",
      "provenance": [],
      "collapsed_sections": []
    },
    "kernelspec": {
      "name": "python3",
      "display_name": "Python 3"
    }
  },
  "cells": [
    {
      "cell_type": "markdown",
      "metadata": {
        "id": "K2AirKXSz_DB"
      },
      "source": [
        "Eliza, the Rogerian therapist... https://www.masswerk.at/elizabot/\n",
        "\n",
        "A log from a real interaction: \n",
        "\n",
        "ELIZA: How do you do.  Please tell me your problem.\n",
        "\n",
        "YOU:   I feel sad, my heart is broken\n",
        "\n",
        "ELIZA: Do you often feel sad ?\n",
        "\n",
        "YOU:   I feel sad\n",
        "\n",
        "ELIZA: Of what does feeling sad remind you ?\n",
        "\n",
        "YOU:   I broke my leg and I feel sad\n",
        "\n",
        "ELIZA: Is it important to you that your leg and you feel sad ?\n"
      ]
    },
    {
      "cell_type": "code",
      "metadata": {
        "id": "8NEK6TZZzowN",
        "colab": {
          "base_uri": "https://localhost:8080/"
        },
        "outputId": "188906d1-d221-4412-9286-12e294c52bc6"
      },
      "source": [
        "#   Regular expressions for Eliza (to be applied in cascade)\n",
        "# To execute the file: execfile(r'./RE.py')\n",
        "\n",
        "import re\n",
        "\n",
        "str = \"I feel desperate, my heart is broken\"\n",
        "print(\"The initial string is:\", str)\n",
        "str = re.sub(\"I\", \"you\", str)\n",
        "print(\"After first substitution:\", str)\n",
        "str = re.sub(\"my\", \"your\", str)\n",
        "print(\"After second substitution:\", str)  \n",
        "str = re.sub(r\"you (feel|are) (sad|sorry|desperate)(.*)\", r\"Why do you say that you \\1 \\2\\3\", str)\n",
        "print(\"After third substitution:\", str) "
      ],
      "execution_count": 1,
      "outputs": [
        {
          "output_type": "stream",
          "name": "stdout",
          "text": [
            "The initial string is: I feel desperate, my heart is broken\n",
            "After first substitution: you feel desperate, my heart is broken\n",
            "After second substitution: you feel desperate, your heart is broken\n",
            "After third substitution: Why do you say that you feel desperate, your heart is broken\n"
          ]
        }
      ]
    }
  ]
}