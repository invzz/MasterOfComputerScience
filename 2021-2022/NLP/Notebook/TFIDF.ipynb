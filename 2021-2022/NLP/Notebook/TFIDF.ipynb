{
  "nbformat": 4,
  "nbformat_minor": 0,
  "metadata": {
    "colab": {
      "name": "Copia di TFIDF.ipynb",
      "provenance": [],
      "collapsed_sections": []
    },
    "kernelspec": {
      "name": "python3",
      "display_name": "Python 3"
    }
  },
  "cells": [
    {
      "cell_type": "code",
      "metadata": {
        "id": "qQfxQV8V_zOa",
        "colab": {
          "base_uri": "https://localhost:8080/"
        },
        "outputId": "2eaa6e41-419b-42c1-bf30-b607b41ccda0"
      },
      "source": [
        "# To execute the file: execfile(r'./tfidf.py')\n",
        "# Inspired by https://github.com/mayank408/TFIDF/blob/master/TFIDF.ipynb\n",
        "# NOT CHECKED!!!!\n",
        "\n",
        "import nltk\n",
        "import pandas as pd\n",
        "#from sklearn.feature_extraction.text import TfidfVectorizer\n",
        "\n",
        "def computeTF(wordDict, bow):\n",
        "    tfDict = {}\n",
        "    bowCount = len(bow)\n",
        "    for word in wordDict:\n",
        "        tfDict[word] = bow.count(word)/float(bowCount)\n",
        "    return tfDict\n",
        "    \n",
        "def computeIDF(docList):\n",
        "    import math\n",
        "    idfDict = {}\n",
        "    N = len(docList)   \n",
        "    idfDict = dict.fromkeys(docList[0].keys(), 0)\n",
        "    for doc in docList:\n",
        "        for word, val in doc.items():\n",
        "            if val > 0:\n",
        "                idfDict[word] += 1\n",
        "    for word, val in idfDict.items():\n",
        "        if val > 0: \n",
        "           idfDict[word] = math.log10(N / float(val)) \n",
        "        else:   \n",
        "           idfDict[word] = 0\n",
        "    return idfDict  \n",
        "    \n",
        "    \n",
        "def computeTFIDF(tfBow, idfs):\n",
        "    tfidf = {}\n",
        "    for word, val in tfBow.items(): #idfs.items(): \n",
        "        tfidf[word] = tfBow[word]*idfs[word]\n",
        "    return tfidf    \n",
        "\n",
        "docA = \"The cat (Felis catus) is a small carnivorous mammal. It is the only domesticated species in the family Felidae and often referred to as the domestic cat to distinguish it from wild members of the family. The cat is either a house cat or a farm cat, which are pets, or a feral cat.\"\n",
        "docB = \"A car (or automobile) is a wheeled motor vehicle used for transportation. Cars became widely available in the early 20th century. One of the first cars accessible to the masses was the 1908 Model T. Cars were rapidly adopted in the US.\"\n",
        "\n",
        "bowA = docA.split(\" \")\n",
        "bowB = docB.split(\" \")\n",
        "\n",
        "print(\"length of Doc1: \", len(bowA), \"; length of Doc2: \", len(bowB))\n",
        "\n",
        "wordSet = set(bowA).union(set(bowB))\n",
        "\n",
        "wordDictA = dict.fromkeys(wordSet, 0) \n",
        "wordDictB = dict.fromkeys(wordSet, 0)\n",
        "\n",
        "\n",
        "# print pd.DataFrame([wordDictA, wordDictB])\n",
        "\n",
        "tfBowA = computeTF(wordDictA, bowA)\n",
        "tfBowB = computeTF(wordDictB, bowB)\n",
        "\n",
        "print(\"\\n tf of cat in Doc1\", tfBowA['cat'],  \"car in Doc1\", tfBowA['car'],  \"the in Doc1\", tfBowA['the'], \"\\n tf of cat in Doc2\", tfBowB['cat'],  \"car in Doc2\", tfBowB['car'],  \"the in Doc2\", tfBowB['the'])\n",
        "\n",
        "#print tfBowA, tfBowB\n",
        "\n",
        "idfs = computeIDF([tfBowA, tfBowB])\n",
        "\n",
        "print(\"\\n idf of cat in the corpus\", idfs['cat'],  \"car in the corpus\", idfs['car'],  \"the in the corpus\", idfs['the'])\n",
        "\n",
        "#print idfs\n",
        "\n",
        "tfidfBowA = computeTFIDF(tfBowA, idfs)\n",
        "tfidfBowB = computeTFIDF(tfBowB, idfs)\n",
        "\n",
        "#print(pd.DataFrame([tfidfBowA, tfidfBowB]))\n",
        "\n",
        "print(\"\\n tfidf of cat in Doc1\", tfidfBowA['cat'],  \"car in Doc1\", tfidfBowA['car'],  \"the in Doc1\", tfidfBowA['the'], \"\\n tfidf of cat in Doc2\", tfidfBowB['cat'],  \"car in Doc2\", tfidfBowB['car'],  \"the in Doc2\", tfidfBowB['the'])"
      ],
      "execution_count": null,
      "outputs": [
        {
          "output_type": "stream",
          "text": [
            "length of Doc1:  54 ; length of Doc2:  42\n",
            "\n",
            " tf of cat in Doc1 0.07407407407407407 car in Doc1 0.0 the in Doc1 0.07407407407407407 \n",
            " tf of cat in Doc2 0.0 car in Doc2 0.023809523809523808 the in Doc2 0.11904761904761904\n",
            "\n",
            " idf of cat in the corpus 0.3010299956639812 car in the corpus 0.3010299956639812 the in the corpus 0.0\n",
            "\n",
            " tfidf of cat in Doc1 0.02229851819733194 car in Doc1 0.0 the in Doc1 0.0 \n",
            " tfidf of cat in Doc2 0.0 car in Doc2 0.007167380849142409 the in Doc2 0.0\n"
          ],
          "name": "stdout"
        }
      ]
    }
  ]
}