{
 "cells": [
  {
   "cell_type": "code",
   "execution_count": 110,
   "metadata": {},
   "outputs": [],
   "source": [
    "# from __future__ import division # uncomment this if using Python 2.7\n",
    "import numpy as np\n",
    "import matplotlib.pyplot as plt\n",
    "import statsmodels.formula.api as smf\n",
    "\n",
    "# plot inline rather than pop out\n",
    "%matplotlib inline\n",
    "# change the plot size, default is (6, 4) which is a little small\n",
    "plt.rcParams['figure.figsize'] = (10, 5)"
   ]
  },
  {
   "cell_type": "markdown",
   "metadata": {},
   "source": [
    "# Lab 4 - Kalman Filter\n",
    "\n",
    "In the previous lab we learned how to perform basic signal filtering operations in the Fourier domain. In this lab we will review the basic concepts of Kalman filtering and we will apply it to a real-world biological signal.\n",
    "\n",
    "## Quick recap from theory\n",
    "\n",
    "In order to describe the Kalman Filter, we start with the following state transition model:\n",
    "\n",
    "\n",
    "$$s_{k+1} = \\Phi s_k + q_{k}$$\n",
    "\n",
    "\n",
    "where:\n",
    "- $s_{k+1}$ is the N-dimensional *state vector* and it contains a description of the varying quantities of the system at time $k+1$\n",
    "- $\\Phi$ is the is the $N \\times N$-dimensional *state transition matrix* which is applied to the previous state;\n",
    "- $q_k$ is the N-dimensional *process noise vector* which is assumed to be drawn from a zero mean $E[q_k]=0$ multivariate normal distribution with its $N \\times N$-dimensional *covariance matrix* $Q = E[q_k q_k^T]$\n",
    "\n",
    "We also consider the following linear measurement model:\n",
    "\n",
    "$$\n",
    "m_k = H s_k + r_k\n",
    "$$\n",
    "\n",
    "where:\n",
    "- $m_k$ is the M-dimensional *measurements/observation vector*, *i.e.* the vector that contains the measures;\n",
    "- $H$ is the $M \\times N$-dimensional *observation matrix* which maps the true state space into the observed space;\n",
    "- $r_k$ is the M-dimensional *observation noise* which is assumed to be zero mean $E[r_k]=0$ Gaussian white noise with covariance $R=E[r_k r_k^T]$.\n",
    "\n",
    "\n",
    "\n",
    "\n",
    "Kalman Filter takes advantage of noisy sensor data and equations that describe the system evolution to determine the state of a system. We report here an extract of the <a href=\"https://en.wikipedia.org/wiki/Kalman_filter\">Wikipedia page </a> of Kalman Filter.\n",
    "\n",
    "\n",
    "\n",
    "*The Kalman filter deals effectively with the uncertainty due to noisy sensor data and to some extent also with random external factors. The Kalman filter produces an estimate of the state of the system as an average of the system's predicted state and of the new measurement using a weighted average. The purpose of the weights is that values with better (i.e., smaller) estimated uncertainty are \"trusted\" more. The weights are calculated from the covariance, a measure of the estimated uncertainty of the prediction of the system's state. The result of the weighted average is a new state estimate that lies between the predicted and measured state, and has a better estimated uncertainty than either alone. This process is repeated at every time step, with the new estimate and its covariance informing the prediction used in the following iteration. This means that the Kalman filter works recursively and requires only the last \"best guess\", rather than the entire history, of a system's state to calculate a new state.*\n",
    "\n",
    "## Equations summary\n",
    "\n",
    "\n",
    "**Kalman gain estimate**\n",
    "\n",
    "- $K_{k} = P_{k}^-H^T\\big(HP_{k}^-H^T + R\\big)^{-1}$ $\\leftarrow$ an estimate of the Kalman  *gain*.\n",
    "\n",
    "We can now rewrite Kalman Filter equations splitting them in two parts: **Update** and **Project (prediction)**.\n",
    "\n",
    "**Update step**\n",
    "\n",
    "- $\\hat{s}_{k}=\\hat{s}_{k}^-+K_{k}\\big(m_{k}-H\\hat{s}_{k}^-\\big)$ $\\leftarrow$ an update of the state of the system ***after*** the acquisition of a new measure\n",
    "- $P_{k}=(I-K_{k}H)P^-_{k}$  $\\leftarrow$ an update of the error covariance matrix ***after*** the acquisition of a new measure\n",
    "\n",
    "**Project/prediction step**\n",
    " - $\\hat{s}^{-}_{k+1} = \\Phi\\hat{s}_k$ $\\leftarrow$ a prediction of the state update at time $k+1$ ***before*** taking a new measure\n",
    " - $P^{-}_{k+1} = \\Phi P_k\\Phi^T + Q$ $\\leftarrow$ a prediction of the error covariance matrix update at time $k+1$ ***before*** taking a new measure\n",
    " \n",
    " \n",
    "Is it everything clear? Let's implement our Kalman Filter and try it on a synthetic signal"
   ]
  },
  {
   "cell_type": "code",
   "execution_count": 2,
   "metadata": {},
   "outputs": [],
   "source": [
    "def naive_KF(m, P_pred, s_pred, Phi, H, Q, R):\n",
    "    \"\"\"Naive Kalman Filter implementation.\n",
    "    \n",
    "    Inputs:\n",
    "    - m (M-dim float) the new measurement\n",
    "    - P_pred (NxN-dim float array) error covariance prediction\n",
    "    - s_pred (N-dim float array) state prediction\n",
    "    - Phi (float array) state transition matrix\n",
    "    - H (MxN-dim float array) measurement matrix  \n",
    "    - Q (NxN-dim float array) process noise covariance\n",
    "    - R (MxM-dim float) measurement noise variance\n",
    "    \n",
    "    Outputs:\n",
    "    - s\n",
    "    - P_pred\n",
    "    - s_pred\n",
    "    \n",
    "    \"\"\"\n",
    "    \n",
    "   ### complete here ###\n",
    "\n",
    "    return ### "
   ]
  },
  {
   "cell_type": "markdown",
   "metadata": {},
   "source": [
    "## Piecewise linear signal\n",
    "\n",
    "Let's consider a time range from 0s to 1s. Sample the time range with $f_s = 1000$ Hz.  Build a piecewise linear signal such that:\n",
    "\n",
    "$$\n",
    "k \\in [0,0.3[ \\rightarrow f(k) = -2k+3\n",
    "$$\n",
    "\n",
    "$$\n",
    "k \\in [0.3,0.6[ \\rightarrow f(k) = k+2.1\n",
    "$$\n",
    "\n",
    "$$\n",
    "k \\in [0.6,1] \\rightarrow f(k) = -4k+5.1\n",
    "$$\n",
    "\n",
    "set $m(k) = f(k) + r$, with $\\sigma_r = 0.01$\n",
    "\n"
   ]
  },
  {
   "cell_type": "code",
   "execution_count": 3,
   "metadata": {},
   "outputs": [],
   "source": [
    "## complete here"
   ]
  },
  {
   "cell_type": "code",
   "execution_count": 123,
   "metadata": {},
   "outputs": [],
   "source": [
    "# Initialization of s_pred and P_pred\n",
    "\n",
    "### complete here ###"
   ]
  },
  {
   "cell_type": "code",
   "execution_count": 133,
   "metadata": {},
   "outputs": [],
   "source": [
    "# Pick Phi, H, Q, R\n",
    "\n",
    "### complete here ###"
   ]
  },
  {
   "cell_type": "code",
   "execution_count": 134,
   "metadata": {},
   "outputs": [],
   "source": [
    "# allocate func and der arrays\n",
    "\n",
    "### complete here ###"
   ]
  },
  {
   "cell_type": "code",
   "execution_count": 135,
   "metadata": {},
   "outputs": [],
   "source": [
    "## call Kalman filter \n",
    "\n",
    "### complete here"
   ]
  }
 ],
 "metadata": {
  "anaconda-cloud": {},
  "kernelspec": {
   "display_name": "Python 3",
   "language": "python",
   "name": "python3"
  },
  "language_info": {
   "codemirror_mode": {
    "name": "ipython",
    "version": 3
   },
   "file_extension": ".py",
   "mimetype": "text/x-python",
   "name": "python",
   "nbconvert_exporter": "python",
   "pygments_lexer": "ipython3",
   "version": "3.7.6"
  }
 },
 "nbformat": 4,
 "nbformat_minor": 1
}
