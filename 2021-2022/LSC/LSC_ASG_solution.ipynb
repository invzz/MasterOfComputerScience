{
  "cells": [
    {
      "cell_type": "code",
      "execution_count": 1,
      "metadata": {
        "colab": {
          "base_uri": "https://localhost:8080/"
        },
        "id": "K8_o-WE2AD58",
        "outputId": "7c04cc3f-bb27-4c48-80da-78a0c3f1e31c"
      },
      "outputs": [
        {
          "name": "stderr",
          "output_type": "stream",
          "text": [
            "[nltk_data] Downloading package punkt to\n",
            "[nltk_data]     C:\\Users\\andres.coronado\\AppData\\Roaming\\nltk_data...\n",
            "[nltk_data]   Package punkt is already up-to-date!\n",
            "[nltk_data] Downloading package stopwords to\n",
            "[nltk_data]     C:\\Users\\andres.coronado\\AppData\\Roaming\\nltk_data...\n",
            "[nltk_data]   Package stopwords is already up-to-date!\n"
          ]
        }
      ],
      "source": [
        "import string, sys\n",
        "\n",
        "from collections import Counter\n",
        "\n",
        "from string import punctuation\n",
        "\n",
        "import nltk\n",
        "\n",
        "from multiprocessing import Pool, Process, Manager\n",
        "\n",
        "\n",
        "import time\n",
        "\n",
        "import os\n",
        "\n",
        "\n",
        "\n",
        "nltk.download('punkt')\n",
        "\n",
        "nltk.download('stopwords')\n",
        "\n",
        "from nltk.tokenize import word_tokenize\n",
        "\n",
        "from nltk.probability import FreqDist\n",
        "\n",
        "from nltk.corpus import stopwords\n",
        "\n",
        "import matplotlib.pyplot as plt\n",
        "\n",
        "swords = stopwords.words(\"english\")\n",
        "\n",
        "\n"
      ]
    },
    {
      "cell_type": "code",
      "execution_count": 2,
      "metadata": {
        "colab": {
          "base_uri": "https://localhost:8080/"
        },
        "id": "As8t0-oNC1UD",
        "outputId": "8a11fb64-bfd4-4090-f1bc-710253fdfe53"
      },
      "outputs": [
        {
          "name": "stdout",
          "output_type": "stream",
          "text": [
            "63\n"
          ]
        },
        {
          "data": {
            "text/plain": [
              "['ï»¿The Hunger Games\\n',\n",
              " '\\n',\n",
              " '\\n',\n",
              " 'The Hunger Games 1by Suzanne Collins\\n',\n",
              " '\\n',\n",
              " 'PART I\"THE TRIBUTES\"\\n',\n",
              " '\\n',\n",
              " '1.\\n',\n",
              " '\\n',\n",
              " 'When I wake up, the other side of the bed is cold. My fingers stretch out, seeking Prims warmth but finding only the rough canvas cover of the mattress. She must have had bad dreams and climbed in with our mother. Of course, she did. This is the day of the reaping. I prop myself up on one elbow. Theres enough light in the bedroom to see them. My little sister, Prim, curled up on her side, cocooned in my mothers body, their cheeks pressed together. In sleep, my mother looks younger, still worn but not so beaten-down. Prims face is as fresh as a raindrop, as lovely as the primrose for which she was named. My mother was very beautiful once, too. Or so\\n',\n",
              " '\\n',\n",
              " 'they tell me. Sitting at Prims knees, guarding her, is the worlds ugliest cat. Mashed-in nose, half of one ear missing, eyes the color of rotting squash. Prim named him Buttercup, insisting that his muddy yellow coat matched the bright flower. I he hates me. Or at least distrusts me. Even though it was years ago, I think he still remembers how I tried to drown him in a bucket when Prim brought him home. Scrawny kitten, belly swollen with worms, crawling with fleas. The last thing I needed was another mouth to feed. But Prim begged so hard, cried even, I had to let him stay. It turned out okay. My mother got rid of the vermin and hes a born mouser. Even catches the occasional rat. Sometimes, when I clean a kill, I feed Buttercup the entrails. He has stopped hissing at me. Entrails. No hissing. This is the closest we will ever come to love. I swing my legs off the bed and slide into my hunting boots. Supple leather that has molded to my feet. I pull on trousers, a shirt, tuck my long dark braid up into a cap, and grab my forage bag. On the table, under a wooden bowl to protect it from hungry rats and cats alike, sits a perfect little goat cheese wrapped in basil leaves. Prims gift to me on reaping day. I put the cheese carefully in my pocket as I slip outside. Our part of District 12, nicknamed the Seam, is usually crawling with coal miners heading out to the morning shift at this hour. Men and women with hunched shoulders, swollen knuckles, many who have long since stopped trying to scrub the coal dust out of their broken nails, the lines of their sunken faces. But today the black cinder streets are empty. Shutters on the squat gray houses are closed. The reaping isnt until two. May as well sleep in. If you can. Our house is almost at the edge of the Seam. I only have to pass a few gates to reach the scruffy field called the Meadow. Separating the Meadow from the woods, in fact enclosing all of District 12, is a high chain-link fence topped with barbed-wire loops. In theory, its supposed to be electrified twenty-four hours a day as a deterrent to the predators that live in the woods packs of wild dogs, lone cougars, bears that used to threaten our streets. But since were lucky to get two or three hours of electricity in the evenings, its\\n',\n",
              " '\\n',\n",
              " 'usually safe to touch. Even so, I always take a moment to listen carefully for the hum that means the fence is live. Right now, its silent as a stone. Concealed by a clump of bushes, I flatten out on my belly and slide under a two-foot stretch thats\\n',\n",
              " '\\n',\n",
              " 'been loose for years. There are several other weak spots in the fence, but this one is so close to home I almost always enter the woods here. As soon as Im in the trees, I retrieve a bow and sheath of arrows from a hollow log. Electrified or not, the fence has been successful at keeping the flesh-eaters out of District 12. Inside the woods they roam freely, and there are added concerns like venomous snakes, rabid animals, and no real paths to follow. But theres also food if you know how to find it. My father knew and he taught me some before he was blown to bits in a mine explosion. There was nothing even to bury. I was eleven then. Five years later, I still wake up screaming for him to run. Even though trespassing in the woods is illegal and poaching carries the severest of penalties, more people would risk it if they had weapons. But most are not bold enough to venture out with just a knife. My bow is a rarity, crafted by my father along with a few others that I keep well hidden in the woods, carefully wrapped in waterproof covers. My father could have made good money selling them, but if the officials found out he would have been publicly executed for inciting a rebellion. Most of the Peacekeepers turn a blind eye to the few of us who hunt because theyre as hungry for fresh meat as anybody is. In fact, theyre among our best customers. But the idea that someone might be arming the Seam would never have been allowed. In the fall, a few brave souls sneak into the woods to harvest apples. But always in sight of the Meadow. Always close enough to run back to the safety of District 12 if trouble arises. District Twelve. Where you can starve to death in safety, I mutter. Then I glance quickly over my shoulder. Even here, even in the middle of nowhere, you worry someone might overhear you. When I was younger, I scared my mother to death, the things I would blurt out about District 12, about the people who rule our country, Panem, from the far-off city called the Capitol. Eventually I understood this would only lead us to more trouble. So I learned to hold my tongue and to turn my features into an indifferent mask so that no one could ever read my thoughts. Do my work quietly in school. Make only polite small talk in the public market. Discuss little more than trades in the Hob, which is the black market where I make most of my money. Even at home, where I am less pleasant, I avoid discussing tricky topics. Like the reaping, or food shortages, or the Hunger Games. Prim might begin to repeat my words and then where would we be? In the woods waits the only person with whom I can be myself. Gale. I can feel the\\n',\n",
              " '\\n',\n",
              " 'muscles in my face relaxing, my pace quickening as I climb the hills to our place, a rock ledge\\n',\n",
              " '\\n',\n",
              " 'overlooking a valley. A thicket of berry bushes protects it from unwanted eyes. The sight of him waiting there brings on a smile. Gale says I never smile except in the woods. Hey, Catnip, says Gale. My real name is Katniss, but when I first told him, I had barely whispered it. So he thought Id said Catnip. Then when this crazy lynx started following me around the woods looking for handouts, it became his official nickname for me. I finally had to kill the lynx because he scared off game. I almost regretted it because he wasnt bad company. But I got a decent price for his pelt. Look what I shot, Gale holds up a loaf of bread with an arrow stuck in it, and I laugh. Its real bakery bread, not the flat, dense loaves we make from our grain rations. I take it in my hands, pull out the arrow, and hold the puncture in the crust to my nose, inhaling the fragrance that makes my mouth flood with saliva. Fine bread like this is for special occasions. Mm, still warm, I say. He must have been at the bakery at the crack of dawn to trade for it. What did it cost you? Just a squirrel. Think the old man was feeling sentimental this morning, says Gale. Even wished me luck. Well, we all feel a little closer today, dont we? I say, not even bothering to roll my eyes. Prim left us a cheese. I pull it out. His expression brightens at the treat. Thank you, Prim. Well have a real feast. Suddenly he falls into a Capitol accent as he mimics Effie Trinket, the maniacally upbeat woman who arrives once a year to read out the names at the leaping. I almost forgot! Happy Hunger Games! He plucks a few blackberries from the bushes around us. And may the odds He tosses a berry in a high arc toward me. I catch it in my mouth and break the delicate skin with my teeth. The sweet tartness explodes across my tongue. Be ever in your favor! I finish with equal verve. We have to joke about it because the alternative is to be scared out of your wits. Besides, the Capitol accent is so affected, almost anything sounds funny in it. I watch as Gale pulls out his knife and slices the bread. He could be my brother. Straight black hair, olive skin, we even have the same gray eyes. But were not related, at least not closely. Most of the families who work the mines resemble one another this way. Thats why my mother and Prim, with their light hair and blue eyes, always look out of place. They are. My mothers parents were part of the small merchant class that\\n',\n",
              " '\\n',\n",
              " 'caters to officials, Peacekeepers, and the occasional Seam customer. They ran an apothecary shop in the nicer part of District 12. Since almost no one can afford doctors, apothecaries are our healers. My father got to know my mother because on his hunts he would sometimes collect medicinal herbs and sell them to her shop to be brewed into remedies. She must have really loved him to leave her home for the Seam. I try to remember that when all I can see is the woman who sat by, blank and unreachable, while her children turned to skin and bones. I\\n',\n",
              " '\\n',\n",
              " 'try to forgive her for my fathers sake. But to be honest, Im not the forgiving type. Gale spreads the bread slices with the soft goat cheese, carefully placing a basil leaf on each while I strip the bushes of their berries. We settle back in a nook in the rocks. From this place, we are invisible but have a clear view of the valley, which is teeming with summer life, greens to gather, roots to dig, fish iridescent in the sunlight. The day is glorious, with a blue sky and soft breeze. The foods wonderful, with the cheese seeping into the warm bread and the berries bursting in our mouths. Everything would be perfect if this really was a holiday, if all the day off meant was roaming the mountains with Gale, hunting for tonights supper. But instead we have to be standing in the square at two oclock waiting for the names to be called out. We could do it, you know, Gale says quietly. What? I ask. Leave the district. Run off. Live in the woods. You and I, we could make it, says Gale. I dont know how to respond. The idea is so preposterous. If we didnt have so many kids, he adds quickly. Theyre not our kids, of course. But they might as well be. Gales two little brothers and a sister. Prim. And you may as well throw in our mothers, too, because how would they live without us? Who would fill those mouths that are always asking for more? With both of us hunting daily, there are still nights when game has to be swapped for lard or shoelaces or wool, still nights when we go to bed with our stomachs growling. I never want to have kids, I say. I might. If I didnt live here, says Gale. But you do, I say, irritated. Forget it, he snaps back. The conversation feels all wrong. Leave? How could I leave Prim, who is the only person in the world Im certain I love? And Gale is devoted to his family. We cant leave, so why bother talking about it? And even if we did . . . Even if we did . . . Where did this stuff about having kids come from? Theres never been anything romantic between Gale and me. When we met, I was a skinny\\n',\n",
              " '\\n',\n",
              " 'twelve-year-old, and although he was only two years older, he already looked like a man. It took a long time for us to even become friends, to stop haggling over every trade and begin helping each other out. Besides, if he wants kids, Gale wont have any trouble finding a wife. Hes good-looking, hes strong enough to handle the work in the mines, and he can hunt. You can tell by the way the girls whisper about him when he walks by in school that they want him. It makes me jealous but not for the reason people would think. Good hunting partners are hard to find. What do you want to do? I ask. We can hunt, fish, or gather. Lets fish at the lake. We can leave our poles and gather in the woods. Get something nice for tonight, he says. Tonight. After the reaping, everyone is supposed to celebrate. And a lot of people do, out of relief that their children have been spared for another year. But at least two families will pull their shutters, lock their doors,\\n',\n",
              " '\\n',\n",
              " 'and try to figure out how they will survive the painful weeks to come. We make out well. The predators ignore us on a day when easier, tastier prey abounds. By late morning, we have a dozen fish, a bag of greens and, best of all, a gallon of strawberries. I found the patch a few years ago, but Gale had the idea to string mesh nets around it to keep out the animals. On the way home, we swing by the Hob, the black market that operates in an abandoned warehouse that once held coal. When they came up with a more efficient system that transported the coal directly from the mines to the trains, the Hob gradually took over the space. Most businesses are closed by this time on reaping day, but the black markets still fairly busy. We easily trade six of the fish for good bread, the other two for salt. Greasy Sae, the bony old woman who sells bowls of hot soup from a large kettle, takes half the greens off our hands in exchange for a couple of chunks of paraffin. We might do a tad better elsewhere, but we make an effort to keep on good terms with Greasy Sae. Shes the only one who can consistently be counted on to buy wild dog. We dont hunt them on purpose, but if youre attacked and you take out a dog or two, well, meat is meat. Once its in the soup, Ill call it beef, Greasy Sae says with a wink. No one in the Seam would turn up their nose at a good leg of wild dog, but the Peacekeepers who come to the Hob can afford to be a little choosier. When we finish our business at the market, we go to the back door of the mayors house to sell half the strawberries, knowing he has\\n',\n",
              " '\\n',\n",
              " 'a particular fondness for them and can afford our price. The mayors daughter, Madge, opens the door. Shes in my year at school. Being the mayors daughter, youd expect her to be a snob, but shes all right. She just keeps to herself. Like me. Since neither of us really has a group of friends, we seem to end up together a lot at school. Eating lunch, sitting next to each other at assemblies, partnering for sports activities. We rarely talk, which suits us both just fine. Today her drab school outfit has been replaced by an expensive white dress, and her blonde hair is done up with a pink ribbon. Reaping clothes. Pretty dress, says Gale. Madge shoots him a look, trying to see if its a genuine compliment or if hes just being ironic. It is a pretty dress, but she would never be wearing it ordinarily. She presses her lips together and then smiles. Well, if I end up going to the Capitol, I want to look nice, dont I? Now its Gales turn to be confused. Does she mean it? Or is she messing with him? Im guessing the second. You wont be going to the Capitol, says Gale coolly. His eyes land on a small, circular pin that adorns her dress. Real gold. Beautifully crafted. It could keep a family in bread for months. What can you have? Five entries? I had six when I was just twelve years old. Thats not her fault, I say. No, its no ones fault. Just the way it is, says Gale. Madges face has become closed off.\\n',\n",
              " '\\n',\n",
              " 'She puts the money for the berries in my hand. Good luck, Katniss. You, too, I say, and the door closes. We walk toward the Seam in silence. I dont like that Gale took a dig at Madge, but hes right, of course. The reaping system is unfair, with the poor getting the worst of it. You become eligible for the reaping the day you turn twelve. That year, your name is entered once. At thirteen, twice. And so on and so on until you reach the age of eighteen, the final year of eligibility, when your name goes into the pool seven times. Thats true for every citizen in all twelve districts in the entire country of Panem. But heres the catch. Say you are poor and starving as we were. You can opt to add your name more times in exchange for tesserae. Each tessera is worth a meager years supply of grain and oil for one person. You may do this for each of your family members as well. So, at the age of twelve, I had my name entered four times. Once, because I had to, and three times for tesserae for grain and oil for myself, Prim, and my mother. In fact, every year I have needed to do this. And the entries are cumulative. So now, at the age of sixteen, my name will be in the\\n',\n",
              " '\\n',\n",
              " 'reaping twenty times. Gale, who is eighteen and has been either helping or single-handedly feeding a family of five for seven years, will have his name in forty-two times. You can see why someone like Madge, who has never been at risk of needing a tessera, can set him off. The chance of her name being drawn is very slim compared to those of us who live in the Seam. Not impossible, but slim. And even though the rules were set up by the Capitol, not the districts, certainly not Madges family, its hard not to resent those who dont have to sign up for tesserae. Gale knows his anger at Madge is misdirected. On other days, deep in the woods, Ive listened to him rant about how the tesserae are just another tool to cause misery in our district. A way to plant hatred between the starving workers of the Seam and those who can generally count on supper and thereby ensure we will never trust one another. Its to the Capitols advantage to have us divided among ourselves, he might say if there were no ears to hear but mine. If it wasnt reaping day. If a girl with a gold pin and no tesserae had not made what Im sure she thought was a harmless comment. As we walk, I glance over at Gales face, still smoldering underneath his stony expression. His rages seem pointless to me, although I never say so. Its not that I dont agree with him. I do. But what good is yelling about the Capitol in the middle of the woods? It doesnt change anything. It doesnt make things fair. It doesnt fill our stomachs. In fact, it scares off the nearby game. I let him yell though. Better he does it in the woods than in the district. Gale and I divide our spoils, leaving two fish, a couple of loaves of good bread, greens, a quart of strawberries, salt, paraffin, and a bit of money for each. See you in the square, I say. Wear something\\n',\n",
              " '\\n',\n",
              " 'pretty, he says flatly. At home, I find my mother and sister are ready to go. My mother wears a fine dress from her apothecary days. Prim is in my first reaping outfit, a skirt and ruffled blouse. Its a bit big on her, but my mother has made it stay with pins. Even so, shes having trouble keeping the blouse tucked in at the back. A tub of warm water waits for me. I scrub off the dirt and sweat from the woods and even wash my hair. To my surprise, my mother has laid out one of her own lovely dresses for me. A soft blue thing with matching shoes. Are you sure? I ask. Im trying to get past rejecting offers of help from her. For a while, I was so angry, I wouldnt allow her to do anything for me. And this is something special. Her clothes from her\\n',\n",
              " '\\n',\n",
              " 'past are very precious to her. Of course. Lets put your hair up, too, she says. I let her towel-dry it and braid it up on my head. I can hardly recognize myself in the cracked mirror that leans against the wall. You look beautiful, says Prim in a hushed voice. And nothing like myself, I say. I hug her, because I know these next few hours will be terrible for her. Her first reaping. Shes about as safe as you can get, since shes only entered once. I wouldnt let her take out any tesserae. But shes worried about me. That the unthinkable might happen. I protect Prim in every way I can, but Im powerless against the reaping. The anguish I always feel when shes in pain wells up in my chest and threatens to register on my (ace. I notice her blouse has pulled out of her skirt in the back again and force myself to stay calm. Tuck your tail in, little duck, I say, smoothing the blouse back in place. Prim giggles and gives me a small Quack. Quack yourself, I say with a light laugh. The kind only Prim can draw out of me. Come on, lets eat, I say and plant a quick kiss on the top of her head. The fish and greens are already cooking in a stew, but that will be for supper. We decide to save the strawberries and bakery bread for this evenings meal, to make it special we say. Instead we drink milk from Prims goat, Lady, and eat the rough bread made from the tessera grain, although no one has much appetite anyway. At one oclock, we head for the square. Attendance is mandatory unless you are on deaths door. This evening, officials will come around and check to see if this is the case. If not, youll be imprisoned. Its too bad, really, that they hold the reaping in the square one of the few places in District 12 that can be pleasant. The squares surrounded by shops, and on public market days, especially if theres good weather, it has a holiday feel to it. But today, despite the bright banners hanging on the buildings, theres an air of grimness. The camera crews, perched like buzzards on rooftops, only add to the effect. People file in silently and sign in. The reaping is a good opportunity for the Capitol to keep tabs on the population as well. Twelve- through eighteen-year-olds are herded into roped areas marked off by ages, the\\n',\n",
              " '\\n',\n",
              " 'oldest in the front, the young ones, like Prim, toward the back. Family members line up around the perimeter, holding tightly to one anothers hands. But there are others, too, who have no one they love at stake, or who no longer care, who slip among the crowd, taking bets on the two kids whose names will be drawn. Odds are\\n',\n",
              " '\\n',\n",
              " 'given on their ages, whether theyre Seam or merchant, if they will break down and weep. Most refuse dealing with the racketeers but carefully, carefully. These same people tend to be informers, and who hasnt broken the law? I could be shot on a daily basis for hunting, but the appetites of those in charge protect me. Not everyone can claim the same. Anyway, Gale and I agree that if we have to choose between dying of hunger and a bullet in the head, the bullet would be much quicker. The space gets tighter, more claustrophobic as people arrive. The squares quite large, but not enough to hold District 12s population of about eight thousand. Latecomers are directed to the adjacent streets, where they can watch the event on screens as its televised live by the state. I find myself standing in a clump of sixteens from the Seam. We all exchange terse nods then focus our attention on the temporary stage that is set up before the Justice Building. It holds three chairs, a podium, and two large glass balls, one for the boys and one for the girls. I stare at the paper slips in the girls ball. Twenty of them have Katniss Everdeen written on them in careful handwriting. Two of the three chairs fill with Madges father, Mayor Undersee, whos a tall, balding man, and Effie Trinket, District 12s escort, fresh from the Capitol with her scary white grin, pinkish hair, and spring green suit. They murmur to each other and then look with concern at the empty seat. Just as the town clock strikes two, the mayor steps up to the podium and begins to read. Its the same story every year. He tells of the history of Panem, the country that rose up out of the ashes of a place that was once called North America. He lists the disasters, the droughts, the storms, the fires, the encroaching seas that swallowed up so much of the land, the brutal war for what little sustenance remained. The result was Panem, a shining Capitol ringed by thirteen districts, which brought peace and prosperity to its citizens. Then came the Dark Days, the uprising of the districts against the Capitol. Twelve were defeated, the thirteenth obliterated. The Treaty of Treason gave us the new laws to guarantee peace and, as our yearly reminder that the Dark Days must never be repeated, it gave us the Hunger Games. The rules of the Hunger Games are simple. In punishment for the uprising, each of the twelve districts must provide one girl and one boy, called tributes, to participate. The twenty-four tributes will be imprisoned in a vast outdoor arena that could hold anything from a burning desert to a frozen wasteland. Over a period of several weeks, the competitors must fight to the death.\\n',\n",
              " '\\n',\n",
              " 'The last tribute standing wins. Taking the kids from our districts, forcing them to kill one another while we watch this is the Capitols way of reminding us how totally we are at their mercy. How little chance we would stand of surviving another rebellion. Whatever words they use, the real message is clear. Look how we take your children and sacrifice them and theres nothing you can do. If you lift a finger, we will destroy every last one of you. Just as we did in District Thirteen. To make it humiliating as well as torturous, the Capitol requires us to treat the Hunger Games as a festivity, a sporting event pitting every district against the others. The last tribute alive receives a life of ease back home, and their district will be showered with prizes, largely consisting of food. All year, the Capitol will show the winning district gifts of grain and oil and even delicacies like sugar while the rest of us battle starvation. It is both a time for repentance and a time for thanks, intones the mayor. Then he reads the list of past District 12 victors. In seventy-four years, we have had exactly two. Only one is still alive. Haymitch Abernathy, a paunchy, middle-aged man, who at this moment appears hollering something unintelligible, staggers onto the stage, and falls into the third chair. Hes drunk. Very. The crowd responds with its token applause, but hes confused and tries to give Effie Trinket a big hug, which she barely manages to fend off. The mayor looks distressed. Since all of this is being televised, right now District 12 is the laughingstock of Panem, and he knows it. He quickly tries to pull the attention back to the reaping by introducing Effie Trinket. Bright and bubbly as ever, Effie Trinket trots to the podium and gives her signature, Happy Hunger Games! And may the odds be ever in your favor! Her pink hair must be a wig because her curls have shifted slightly off-center since her encounter with Haymitch. She goes on a bit about what an honor it is to be here, although everyone knows shes just aching to get bumped up to a better district where they have proper victors, not drunks who molest you in front of the entire nation. Through the crowd, I spot Gale looking back at me with a ghost of a smile. As reapings go, this one at least has a slight entertainment factor. But suddenly I am thinking of Gale and his forty-two names in that big glass ball and how the odds are not in his favor. Not compared to a lot of the boys. And maybe hes thinking the same thing about me because his face darkens and he turns away. But there are still thousands of slips, I wish I could whisper to him. Its time for the drawing. Effie Trinket says as she always does, Ladies first! and crosses to\\n',\n",
              " '\\n',\n",
              " 'the glass ball with the girls names. She reaches in, digs her hand deep into the ball, and pulls out a slip of paper. The crowd draws in a collective breath and then you can hear a pin drop, and Im feeling nauseous and so desperately hoping that its not me, that its\\n',\n",
              " '\\n',\n",
              " 'not me, that its not me. Effie Trinket crosses back to the podium, smoothes the slip of paper, and reads out the name in a clear voice. And its not me. Its Primrose Everdeen.\\n',\n",
              " '\\n',\n",
              " '2.\\n',\n",
              " '\\n',\n",
              " 'One time, when I was in a blind in a tree, waiting motionless for game to wander by, I dozed off and fell ten feet to the ground, landing on my back. It was as if the impact had knocked every wisp of air from my lungs, and I lay there struggling to inhale, to exhale, to do anything. Thats how I feel now, trying to remember how to breathe, unable to speak, totally stunned as the name bounces around the inside of my skull. Someone is gripping my arm, a boy from the Seam, and I think maybe I started to fall and he caught me. There must have been some mistake. This cant be happening. Prim was one slip of paper in thousands! Her chances of being chosen so remote that Id not even bothered to worry about her. Hadnt I done everything? Taken the tesserae, refused to let her do the same? One slip. One slip in thousands. The odds had been entirely in her favor. But it hadnt mattered. Somewhere far away, I can hear the crowd murmuring unhappily as they always do when a twelve-year-old gets chosen because no one thinks this is fair. And then I see her, the blood drained from her face, hands clenched in fists at her sides, walking with stiff, small steps up toward the stage, passing me, and I see the back of her blouse has become untucked and hangs out over her skirt. Its this detail, the untucked blouse forming a ducktail, that brings me back to myself. Prim! The strangled cry comes out of my throat, and my muscles begin to move again. Prim! I dont need to shove through the crowd. The other kids make way immediately allowing me a straight path to the stage. I reach her just as she is about to mount the steps. With one sweep of my arm, I push her behind me. I volunteer! I gasp. I volunteer as tribute! Theres some confusion on the stage.\\n',\n",
              " '\\n',\n",
              " 'District 12 hasnt had a volunteer in decades and the protocol has become rusty. The rule is that once a tributes name has been pulled from the ball, another eligible boy, if a boys name has been read, or girl, if a girls name has been read, can step forward to take his or her place. In some districts, in which winning the reaping is such a great honor, people are eager to risk their lives, the volunteering is complicated. But in District 12, where the word tribute is pretty much synonymous with the word corpse, volunteers are all but extinct. Lovely! says Effie Trinket. But I believe theres a small matter of introducing the reaping winner and then asking for volunteers, and if one does come forth then we, um . . . She trails off, unsure herself. What does it matter? says the mayor. Hes looking at me with a pained expression on his face. He doesnt know me really, but theres a faint recognition there. I am the girl who brings the strawberries. The girl his daughter might have spoken of on occasion. The girl who five years ago stood huddled with her mother and\\n',\n",
              " '\\n',\n",
              " 'sister, as he presented her, the oldest child, with a medal of valor. A medal for her father, vaporized in the mines. Does he remember that? What does it matter? he repeats gruffly. Let her come forward. Prim is screaming hysterically behind me. Shes wrapped her skinny arms around me like a vice. No, Katniss! No! You cant go! Prim, let go, I say harshly, because this is upsetting me and I dont want to cry. When they televise the replay of the reapings tonight, everyone will make note of my tears, and Ill be marked as an easy target. A weakling. I will give no one that satisfaction. Let go! I can feel someone pulling her from my back. I turn and see Gale has lifted Prim off the ground and shes thrashing in his arms. Up you go, Catnip, he says, in a voice hes fighting to keep steady, and then he carries Prim off toward my mother. I steel myself and climb the steps. Well, bravo! gushes Effie Trinket. Thats the spirit of the Games! Shes pleased to finally have a district with a little action going on in it. Whats your name? I swallow hard. Katniss Everdeen, I say. I bet my buttons that was your sister. Dont want her to steal all the glory, do we? Come on, everybody! Lets give a big round of applause to our newest tribute! trills Effie Trinket. To the everlasting credit of the people of District 12, not one person claps. Not even the ones holding betting slips, the ones who are usually beyond caring. Possibly because they know me from the Hob, or knew my father, or have encountered Prim, who no\\n',\n",
              " '\\n',\n",
              " 'one can help loving. So instead of acknowledging applause, I stand there unmoving while they take part in the boldest form of dissent they can manage. Silence. Which says we do not agree. We do not condone. All of this is wrong. Then something unexpected happens. At least, I dont expect it because I dont think of District 12 as a place that cares about me. But a shift has occurred since I stepped up to take Prims place, and now it seems I have become someone precious. At first one, then another, then almost every member of the crowd touches the three middle fingers of their left hand to their lips and holds it out to me. It is an old and rarely used gesture of our district, occasionally seen at funerals. It means thanks, it means admiration, it means good-bye to someone you love. Now I am truly in danger of crying, but fortunately Haymitch chooses this time to come staggering across the stage to congratulate me. Look at her. Look at this one! he hollers, throwing an arm around my shoulders. Hes surprisingly strong for such a wreck. I like her! His breath reeks of liquor and its been a long time since hes bathed. Lots of . . . He cant think of the word for a while. Spunk! he says triumphantly. More than you! he releases me and starts for the front of the stage. More than you! he shouts, pointing directly into a\\n',\n",
              " '\\n',\n",
              " 'camera. Is he addressing the audience or is he so drunk he might actually be taunting the Capitol? Ill never know because just as hes opening his mouth\\n',\n",
              " '\\n',\n",
              " 'to continue, Haymitch plummets off the stage and knocks himself unconscious. Hes disgusting, but Im grateful. With every camera gleefully trained on him, I have just enough time to release the small, choked sound in my throat and compose myself. I put my hands behind my back and stare into the distance. I can see the hills I climbed this morning with Gale. For a moment, I yearn for something . . . The idea of us leaving the district . . . Making our way in the woods . . . But I know I was right about not running off. Because who else would have volunteered for Prim? Haymitch is whisked away on a stretcher, and Effie Trinket is trying to get the ball rolling again. What an exciting day! she warbles as she attempts to straighten her wig, which has listed severely to the right. But more excitement to come! Its time to choose our boy tribute! Clearly hoping to contain her tenuous hair situation, she plants one hand on her head as she crosses to the ball that contains the boys names and grabs the first slip she encounters. She zips back to the podium, and I dont even have time to wish\\n',\n",
              " '\\n']"
            ]
          },
          "execution_count": 2,
          "metadata": {},
          "output_type": "execute_result"
        }
      ],
      "source": [
        "#read a text file\n",
        "\n",
        "filename=\"./input.txt\"\n",
        "\n",
        "text_file = open(filename, \"r\")\n",
        "\n",
        "lines = text_file.readlines()\n",
        "\n",
        "text_file.close()\n",
        "\n",
        "nrows=len(lines)\n",
        "\n",
        "print(nrows)\n",
        "\n",
        "lines\n"
      ]
    },
    {
      "cell_type": "code",
      "execution_count": 3,
      "metadata": {
        "id": "5CyP9Pm4C7PA"
      },
      "outputs": [],
      "source": [
        "# string is the key\n",
        "# number is the occurence\n",
        "# example {\"the\" :  53, \"as\" : 53} \n",
        "\n",
        "# new \"the\"\n",
        "#if not found we add {\"the\" : 1}\n",
        "\n",
        "#upsert function\n",
        "def pool_counter_update(cdict,str):\n",
        "  \n",
        "  #update\n",
        "  if str in cdict:\n",
        "    print(\"update\")\n",
        "    cdict[str] += 1\n",
        "  \n",
        "  #insert\n",
        "  else:\n",
        "    print(\"insert\")\n",
        "    cdict[str] = 1;\n",
        "\n",
        "  print(cdict) \n",
        "\n",
        "  "
      ]
    },
    {
      "cell_type": "code",
      "execution_count": 4,
      "metadata": {
        "id": "IvjWdnbeC_bY"
      },
      "outputs": [],
      "source": [
        "def pool_counter_update(cdict,str):\n",
        "    #upate str in cdict\n",
        "    if str in cdict:\n",
        "        cdict[str] +=1\n",
        "    else:\n",
        "        cdict[str]=1\n",
        "    return"
      ]
    },
    {
      "cell_type": "code",
      "execution_count": 5,
      "metadata": {
        "colab": {
          "base_uri": "https://localhost:8080/"
        },
        "id": "cnkni3PiDDoj",
        "outputId": "ddefda38-fbcc-4ace-8225-daf442f204f0"
      },
      "outputs": [
        {
          "name": "stdout",
          "output_type": "stream",
          "text": [
            "[(<DictProxy object, typeid 'dict' at 0x17b246a5280>, 'try to forgive her for my fathers sake. But to be honest, Im not the forgiving type. Gale spreads the bread slices with the soft goat cheese, carefully placing a basil leaf on each while I strip the bushes of their berries. We settle back in a nook in the rocks. From this place, we are invisible but have a clear view of the valley, which is teeming with summer life, greens to gather, roots to dig, fish iridescent in the sunlight. The day is glorious, with a blue sky and soft breeze. The foods wonderful, with the cheese seeping into the warm bread and the berries bursting in our mouths. Everything would be perfect if this really was a holiday, if all the day off meant was roaming the mountains with Gale, hunting for tonights supper. But instead we have to be standing in the square at two oclock waiting for the names to be called out. We could do it, you know, Gale says quietly. What? I ask. Leave the district. Run off. Live in the woods. You and I, we could make it, says Gale. I dont know how to respond. The idea is so preposterous. If we didnt have so many kids, he adds quickly. Theyre not our kids, of course. But they might as well be. Gales two little brothers and a sister. Prim. And you may as well throw in our mothers, too, because how would they live without us? Who would fill those mouths that are always asking for more? With both of us hunting daily, there are still nights when game has to be swapped for lard or shoelaces or wool, still nights when we go to bed with our stomachs growling. I never want to have kids, I say. I might. If I didnt live here, says Gale. But you do, I say, irritated. Forget it, he snaps back. The conversation feels all wrong. Leave? How could I leave Prim, who is the only person in the world Im certain I love? And Gale is devoted to his family. We cant leave, so why bother talking about it? And even if we did . . . Even if we did . . . Where did this stuff about having kids come from? Theres never been anything romantic between Gale and me. When we met, I was a skinny\\n')]\n"
          ]
        }
      ],
      "source": [
        "from multiprocessing.managers import BaseManager\n",
        "from multiprocessing import Manager\n",
        "\n",
        "\n",
        "\n",
        "\n",
        "def update(cdict, lines):\n",
        "  for line in lines:\n",
        "    tokens = pool_count_tokens_in_a_line(cdict, lines)\n",
        "    for token in tokens:\n",
        "       pool_counter_update(cdict, token)\n",
        "  return\n",
        "\n",
        "\n",
        "\n",
        "# {  54 : [\"the\", \"and\", \"\"] , 1 : [\"zebra\"]}\n",
        "\n",
        "def go(concurrent):\n",
        "  chunksize = nrows // concurrent\n",
        "  start = time.time()\n",
        "  d = Manager().dict()\n",
        "  start = time.time()\n",
        "  #\n",
        "  parameter = [(d, lines[23] )]\n",
        " \n",
        "  with Pool(concurrent) as p :\n",
        "    aux = p.starmap(update, parameter)\n",
        "    print(aux)   \n",
        "  \n",
        "  print (d) \n",
        "\n",
        "go(4)"
      ]
    },
    {
      "cell_type": "code",
      "execution_count": null,
      "metadata": {
        "id": "hGQcqGsBzdbb"
      },
      "outputs": [],
      "source": [
        "  #create a shared dict using base manager\n",
        "\n",
        "\n",
        "  # with Manager() as manager:\n",
        "  #   d = manager.dict()\n",
        "  #   print(d)\n",
        "  #   # d[\"data\"]=lines\n",
        "  #   # length = len(lines)\n",
        "  #   # middle_index = length//2\n",
        "  #   # first_half = lines[:middle_index]\n",
        "  #   # second_half = lines[middle_index:]\n",
        "  #   # d[\"first_half\"] = first_half\n",
        "  #   # d[\"second_half\"] = second_half\n",
        "  \n",
        "\n",
        "  # #...\n",
        "\n",
        "  # #submit a task to the pool using default chunksize partitioning of data\n",
        "\n",
        "    \n",
        "  #   start = time.time()\n",
        "  #   r1 = pool.starmap(pool_counter_update, [(d,lines)], 4 )\n",
        "  #   # r2 = pool.apply_async(pool_count_tokens_in_a_line, args = (d[\"second_half\"],\"ahmed anis\") )\n",
        "  #   # r2 = pool.apply_async(countdown, [COUNT//2])\n",
        "  #   pool.close()\n",
        "  #   pool.join()\n",
        "\n",
        "  #   end1 = time.time()\n",
        "\n",
        "  # print(\"\\nConcurrent: \",concurrent,\"\\nP1\", end1-start)\n"
      ]
    }
  ],
  "metadata": {
    "colab": {
      "collapsed_sections": [],
      "name": "LSC_ASG_solution.ipynb",
      "provenance": []
    },
    "interpreter": {
      "hash": "287794a436fb62a782d416ba410ab216dd5c9a281ee48d1a608eb88c74be5837"
    },
    "kernelspec": {
      "display_name": "Python 3.8.8 64-bit ('base': conda)",
      "name": "python3"
    },
    "language_info": {
      "codemirror_mode": {
        "name": "ipython",
        "version": 3
      },
      "file_extension": ".py",
      "mimetype": "text/x-python",
      "name": "python",
      "nbconvert_exporter": "python",
      "pygments_lexer": "ipython3",
      "version": "3.8.8"
    }
  },
  "nbformat": 4,
  "nbformat_minor": 0
}
