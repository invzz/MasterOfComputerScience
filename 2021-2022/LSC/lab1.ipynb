{
 "cells": [
  {
   "cell_type": "code",
   "execution_count": 1,
   "metadata": {},
   "outputs": [],
   "source": [
    "import string, sys\n",
    "from collections import Counter\n",
    "from string import punctuation\n",
    "import nltk\n",
    "from multiprocessing import Pool\n",
    "from multiprocessing import Manager, current_process\n",
    "import time\n",
    "import os\n",
    "from nltk import data\n",
    "from nltk.tokenize import word_tokenize\n",
    "from nltk.probability import FreqDist\n",
    "from nltk.corpus import stopwords\n",
    "import matplotlib.pyplot as plt\n",
    "from functools import partial"
   ]
  },
  {
   "cell_type": "code",
   "execution_count": 2,
   "metadata": {},
   "outputs": [
    {
     "name": "stdout",
     "output_type": "stream",
     "text": [
      "2747\n"
     ]
    }
   ],
   "source": [
    "swords = stopwords.words(\"english\")\n",
    "#read a text file\n",
    "filename=\"input.txt\"\n",
    "text_file = open(filename, \"r\")\n",
    "lines= text_file.readlines()\n",
    "text_file.close()\n",
    "nrows=len(lines)\n",
    "print(nrows)"
   ]
  },
  {
   "cell_type": "code",
   "execution_count": 3,
   "metadata": {},
   "outputs": [],
   "source": [
    "def pool_counter_update(cdict,str):\n",
    "    #upate str in cdict\n",
    "    if str in cdict:\n",
    "        cdict[str] +=1\n",
    "    else:\n",
    "        cdict[str]=1\n",
    "    return"
   ]
  },
  {
   "cell_type": "code",
   "execution_count": 4,
   "metadata": {},
   "outputs": [],
   "source": [
    "def pool_count_tokens_in_a_line(cdict, line):\n",
    "    #p = current_process()\n",
    "    #print (p.name)\n",
    "  \n",
    "    tword=word_tokenize(line.strip('\\n'))\n",
    "    #update cdict\n",
    "    for str in tword:\n",
    "        pool_counter_update(cdict, str)\n",
    "    \n"
   ]
  },
  {
   "cell_type": "code",
   "execution_count": 5,
   "metadata": {},
   "outputs": [],
   "source": [
    "def go(concurrent):\n",
    "  pool=Pool(concurrent)\n",
    "  start = time.time()\n",
    "  man = Manager();\n",
    "  #create a shared dict using base manager\n",
    "  cdict = man.dict()\n",
    "  wrk =  partial(pool_count_tokens_in_a_line, cdict)\n",
    "  #submit a task to the pool using default chunksize partitioning of data\n",
    "  pool.map(wrk, lines )\n",
    "  end1 = time.time()\n",
    "  return cdict\n"
   ]
  },
  {
   "cell_type": "code",
   "execution_count": 6,
   "metadata": {},
   "outputs": [
    {
     "name": "stderr",
     "output_type": "stream",
     "text": [
      "[nltk_data] Downloading package punkt to\n",
      "[nltk_data]     C:\\Users\\andres.coronado\\AppData\\Roaming\\nltk_data...\n",
      "[nltk_data]   Package punkt is already up-to-date!\n",
      "[nltk_data] Downloading package stopwords to\n",
      "[nltk_data]     C:\\Users\\andres.coronado\\AppData\\Roaming\\nltk_data...\n",
      "[nltk_data]   Package stopwords is already up-to-date!\n"
     ]
    },
    {
     "name": "stdout",
     "output_type": "stream",
     "text": [
      "2747\n"
     ]
    }
   ],
   "source": [
    "#conf\n",
    "nltk.download('punkt')\n",
    "nltk.download('stopwords')\n",
    "swords = stopwords.words(\"english\")\n",
    "\n",
    "#read a text file\n",
    "filename=\"input.txt\"\n",
    "text_file = open(filename, \"r\")\n",
    "lines= text_file.readlines()\n",
    "text_file.close()\n",
    "nrows=len(lines)\n",
    "print(nrows)\n",
    "\n",
    "for i in range(4): \n",
    "    print(go(i+1))"
   ]
  }
 ],
 "metadata": {
  "interpreter": {
   "hash": "287794a436fb62a782d416ba410ab216dd5c9a281ee48d1a608eb88c74be5837"
  },
  "kernelspec": {
   "display_name": "Python 3.8.8 64-bit ('base': conda)",
   "name": "python3"
  },
  "language_info": {
   "codemirror_mode": {
    "name": "ipython",
    "version": 3
   },
   "file_extension": ".py",
   "mimetype": "text/x-python",
   "name": "python",
   "nbconvert_exporter": "python",
   "pygments_lexer": "ipython3",
   "version": "3.8.12"
  },
  "orig_nbformat": 4
 },
 "nbformat": 4,
 "nbformat_minor": 2
}
