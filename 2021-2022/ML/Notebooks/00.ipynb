{
 "cells": [
  {
   "cell_type": "markdown",
   "source": [
    "# Lab 1 - Synthetic data generation\n",
    "\n",
    "This lab is about the generation of synthetic data.\n",
    "\n",
    "How to generate this data depends on the learning task: **classification** or **regression**."
   ],
   "metadata": {}
  },
  {
   "cell_type": "code",
   "execution_count": 4,
   "source": [
    "# import libraries\r\n",
    "\r\n",
    "import numpy as np\r\n",
    "import matplotlib as cm\r\n",
    "import matplotlib.pyplot as plt\r\n",
    "import os\r\n",
    "%matplotlib inline"
   ],
   "outputs": [
    {
     "output_type": "error",
     "ename": "ModuleNotFoundError",
     "evalue": "No module named 'numpy'",
     "traceback": [
      "\u001b[1;31m---------------------------------------------------------------------------\u001b[0m",
      "\u001b[1;31mModuleNotFoundError\u001b[0m                       Traceback (most recent call last)",
      "\u001b[1;32m<ipython-input-4-6ce7bffc4620>\u001b[0m in \u001b[0;36m<module>\u001b[1;34m\u001b[0m\n\u001b[0;32m      1\u001b[0m \u001b[1;31m# import libraries\u001b[0m\u001b[1;33m\u001b[0m\u001b[1;33m\u001b[0m\u001b[1;33m\u001b[0m\u001b[0m\n\u001b[0;32m      2\u001b[0m \u001b[1;33m\u001b[0m\u001b[0m\n\u001b[1;32m----> 3\u001b[1;33m \u001b[1;32mimport\u001b[0m \u001b[0mnumpy\u001b[0m \u001b[1;32mas\u001b[0m \u001b[0mnp\u001b[0m\u001b[1;33m\u001b[0m\u001b[1;33m\u001b[0m\u001b[0m\n\u001b[0m\u001b[0;32m      4\u001b[0m \u001b[1;32mimport\u001b[0m \u001b[0mmatplotlib\u001b[0m \u001b[1;32mas\u001b[0m \u001b[0mcm\u001b[0m\u001b[1;33m\u001b[0m\u001b[1;33m\u001b[0m\u001b[0m\n\u001b[0;32m      5\u001b[0m \u001b[1;32mimport\u001b[0m \u001b[0mmatplotlib\u001b[0m\u001b[1;33m.\u001b[0m\u001b[0mpyplot\u001b[0m \u001b[1;32mas\u001b[0m \u001b[0mplt\u001b[0m\u001b[1;33m\u001b[0m\u001b[1;33m\u001b[0m\u001b[0m\n",
      "\u001b[1;31mModuleNotFoundError\u001b[0m: No module named 'numpy'"
     ]
    }
   ],
   "metadata": {}
  },
  {
   "cell_type": "markdown",
   "source": [
    "## Generating data for regression problems"
   ],
   "metadata": {}
  },
  {
   "cell_type": "markdown",
   "source": [
    "Let's define a function to generate a D-dimensional dataset according to a linear regression problem, possibly affected by Gaussian noise.\n",
    "The use of the function is the following:\n",
    "\n",
    "```\n",
    "X, Y = linearRegrFunction(n, d, low_d, high_d, w, sigma_noise)\n",
    "```\n",
    "\n",
    "where\n",
    "- **n** is the number of samples to be generated\n",
    "- **d** is the size of each sample\n",
    "- **low_d** and **high_d** are arrays of, respectively, lower and upper bounds for the domain of the samples\n",
    "- **w** is an array with the linear function coefficients\n",
    "- **sigma_noise** is the standard deviation used to generate the Gaussian noise (with zero mean)\n",
    "- **X**, **Y**: d-dimensional samples (X) associated with 1-dimensional output (Y)\n"
   ],
   "metadata": {}
  },
  {
   "cell_type": "code",
   "execution_count": null,
   "source": [
    "def linearRegrFunction(n, d, low_d, high_d, w, sigma_noise):\r\n",
    "   \r\n",
    "    X = np.zeros((n, d))\r\n",
    "    for i in range(0, d):\r\n",
    "        X[:,i] = np.random.uniform(low_d[i], high_d[i], size=n)\r\n",
    "    \r\n",
    "    gauss_noise = np.random.normal(0, sigma_noise, size=(n, 1))\r\n",
    "\r\n",
    "    Y = np.dot(X, w) + gauss_noise\r\n",
    "    \r\n",
    "    return X, Y"
   ],
   "outputs": [],
   "metadata": {}
  },
  {
   "cell_type": "markdown",
   "source": [
    "### Play with the data generator\n",
    "\n",
    "To start, generate a dataset of 1-dimensional input, for different values of `w` and no noise. <br> Pick the bounds of the domain that you prefer. \n",
    "<br> Let's consider the function `Y = wX` with `w=1` (the identity function), and then change the value of `w` as you prefer\n",
    "\n",
    "**Notice that since no noise is added, the obtained samples refer to the TRUE function**"
   ],
   "metadata": {}
  },
  {
   "cell_type": "code",
   "execution_count": null,
   "source": [
    "w = np.array([1]).transpose()\r\n",
    "d = 1\r\n",
    "w.shape = (d, 1)\r\n",
    "low_d = np.array([-100])\r\n",
    "high_d = np.array([100])\r\n",
    "\r\n",
    "n = 10 \r\n",
    "X, Y = linearRegrFunction(n, d, low_d, high_d, w, 0)\r\n",
    "\r\n",
    "plt.scatter(X, Y)\r\n",
    "plt.xlabel(\"X\")\r\n",
    "plt.ylabel(\"Y\")\r\n",
    "\r\n",
    "# TRY WITH FURTHER SAMPLINGS, VISUALIZE THE OBTAINED POINTS ON THE SAME PLOT AND OBSERVE WHAT HAPPENS\r\n",
    "X1, Y1 = ...\r\n",
    "plt.scatter(...)\r\n",
    "\r\n",
    "# WHAT HAPPENS WHEN YOU CHANGE THE AMOUNT OF POINTS?"
   ],
   "outputs": [],
   "metadata": {}
  },
  {
   "cell_type": "markdown",
   "source": [
    "### Time to add noise\n",
    "\n",
    "- Still considering the 1-dimensional case, fix the linear coefficients, the bounds, the number of samples and the amount of noise (e.g. `sigma_noise=3`) and generate multiple instances of the data.\n",
    "- Plot them together and observe the relationship between the different samples sets.\n",
    "- Also, generate the \"TRUE\" function and plot its samples as well. \n",
    "\n",
    "**Hint:** A sensible amount of noise depends on the `low_d` and `high_d` bounds!"
   ],
   "metadata": {}
  },
  {
   "cell_type": "code",
   "execution_count": null,
   "source": [
    "w = np.array([1]).transpose()\r\n",
    "D = 1\r\n",
    "w.shape = (D,1)\r\n",
    "low_D = np.array([-100])\r\n",
    "high_D = np.array([100])\r\n",
    "\r\n",
    "n = 30 \r\n",
    "sigma_noise = 10\r\n",
    "\r\n",
    "Xtrue, Ytrue = linearRegrFunction(100, D, low_D, high_D, w, 0)\r\n",
    "plt.plot(Xtrue, Ytrue,'-k')\r\n",
    "\r\n",
    "# GENERATE 4 DIFFERENT INSTANCES OF THE DATA KEEPING ALL THE PARAMETERS WITH THE SAME VALUE\r\n",
    "# VISUALIZE THE OBTAINED POINTS ON THE SAME PLOT AND OBSERVE WHAT HAPPENS\r\n",
    "\r\n",
    "Xd1, Yd1 = ...\r\n",
    "plt.scatter(...)\r\n",
    "\r\n",
    "Xd2, Yd2 = ...\r\n",
    "...\r\n"
   ],
   "outputs": [],
   "metadata": {}
  },
  {
   "cell_type": "markdown",
   "source": [
    "### Change the amount of noise \n",
    "\n",
    "- Again on the 1-dimensional case, fix the parameters of the function, the bounds, the number of samples and compare the data obtained according to different amount of noise. <br>\n",
    "- Plot them together and observe the relationship between the different samples sets. <br>\n",
    "- Observe the difference as you change also the number of samples\n",
    "- Also, generate the \"TRUE\" function and plot its samples as well. "
   ],
   "metadata": {}
  },
  {
   "cell_type": "code",
   "execution_count": null,
   "source": [
    "n = 100\r\n",
    "D = 1\r\n",
    "w = np.array([1]).transpose()\r\n",
    "w.shape = (D,1)\r\n",
    "\r\n",
    "low_D = np.array([-100])\r\n",
    "high_D = np.array([100])\r\n",
    "\r\n",
    "# Here we can compute the true function\r\n",
    "Xtrue, Ytrue = linearRegrFunction(100, D, low_D, high_D, w, 0)\r\n",
    "\r\n",
    "# Setup a plot in which the different sets can be shown and visually compared\r\n",
    "fig = plt.figure(figsize=(7,7)) \r\n",
    "ax0 = fig.add_subplot(2, 2, 1)\r\n",
    "ax1 = fig.add_subplot(2, 2, 2)\r\n",
    "ax2 = fig.add_subplot(2, 2, 3)\r\n",
    "ax3 = fig.add_subplot(2, 2, 4)\r\n",
    "\r\n",
    "Xd1, Yd1 = linearRegrFunction(n, D, low_D, high_D, w, sigma_noise=0.1)\r\n",
    "ax0.scatter(Xd1, Yd1, s=70, alpha=0.8)\r\n",
    "ax0.plot(Xtrue, Ytrue, c='r')\r\n",
    "ax0.set_title(\"Dataset 1\")\r\n",
    "\r\n",
    "# GENERATE 3 FURTHER INSTANCES OF THE DATA KEEPING THE SAME VALUE FOR ALL THE PARAMETERS BUT THE NOISE LEVEL\r\n",
    "# DATASET Xd2, Yd2 WITH sigma_noise = 5\r\n",
    "# DATASET Xd3, Yd3 WITH sigma_noise = 10\r\n",
    "# DATASET Xd4, Yd4 WITH sigma_noise = 25\r\n",
    "# VISUALIZE THE OBTAINED POINTS ON DIFFERENT SUBPLOTS\r\n",
    "\r\n",
    "# Fill here...\r\n",
    "\r\n",
    "fig.tight_layout()"
   ],
   "outputs": [],
   "metadata": {}
  },
  {
   "cell_type": "markdown",
   "source": [
    "### Increasing the sample size \n",
    "\n",
    "- Let us consider a sample set with 2D input and 1D output, fix the parameters of the function, the bounds, the number of samples and compare the data obtained according to different amount of noise.\n",
    "- Plot them together and observe the relationship between the different samples sets.\n",
    "- Observe the difference as you change also the number of samples\n",
    "- Also, generate the \"TRUE\" function and plot its samples as well. "
   ],
   "metadata": {}
  },
  {
   "cell_type": "code",
   "execution_count": null,
   "source": [
    "from mpl_toolkits.mplot3d import Axes3D\r\n",
    "\r\n",
    "n = 100\r\n",
    "D = 2\r\n",
    "w = np.array([0, 0]).transpose()\r\n",
    "w.shape = (D,1)\r\n",
    "\r\n",
    "low_D = np.array([-100, -100])\r\n",
    "high_D = np.array([100, 100])\r\n",
    "\r\n",
    "# Here we can compute the true function\r\n",
    "Xtrue, Ytrue = linearRegrFunction(n, D, low_D, high_D, w, 0)\r\n",
    "\r\n",
    "# Setup a plot in which the different sets can be shown and visually compared\r\n",
    "fig = plt.figure(figsize=(10,10)) \r\n",
    "ax0 = fig.add_subplot(2, 2, 1, projection='3d')\r\n",
    "ax1 = fig.add_subplot(2, 2, 2, projection='3d')\r\n",
    "ax2 = fig.add_subplot(2, 2, 3, projection='3d')\r\n",
    "ax3 = fig.add_subplot(2, 2, 4, projection='3d')\r\n",
    "\r\n",
    "Xd1, Yd1 = linearRegrFunction(n, D, low_D, high_D, w, sigma_noise=0.1)\r\n",
    "ax0.scatter3D(Xd1[:,0], Xd1[:,1], Yd1, s=70, alpha=0.8)\r\n",
    "ax0.scatter3D(Xtrue[:,0], Xtrue[:,1], Ytrue, s=70, alpha=0.8)\r\n",
    "ax0.set_title(\"Dataset 1\")\r\n",
    "ax0.view_init(azim=30,elev=0)\r\n",
    "ax0.set_xlabel('X[:,0]')\r\n",
    "ax0.set_ylabel('X[:,1]')\r\n",
    "ax0.set_zlabel('Y')\r\n",
    "ax0.set_zlim([-80,80])\r\n",
    "\r\n",
    "Xd2, Yd2 = linearRegrFunction(n, D, low_D, high_D, w, sigma_noise=5)\r\n",
    "ax1.scatter3D(Xd2[:,0], Xd2[:,1], Yd2, s=70, alpha=0.8)\r\n",
    "ax1.scatter3D(Xtrue[:,0], Xtrue[:,1], Ytrue, s=70, alpha=0.8)\r\n",
    "ax1.set_title(\"Dataset 2\")\r\n",
    "ax1.view_init(azim=30,elev=0)\r\n",
    "ax1.set_xlabel('X[:,0]')\r\n",
    "ax1.set_ylabel('X[:,1]')\r\n",
    "ax1.set_zlabel('Y')\r\n",
    "ax1.set_zlim([-80,80])\r\n",
    "\r\n",
    "Xd3, Yd3 = linearRegrFunction(n, D, low_D, high_D, w, sigma_noise=10)\r\n",
    "ax2.scatter3D(Xd3[:,0], Xd3[:,1], Yd3, s=70, alpha=0.8)\r\n",
    "ax2.scatter3D(Xtrue[:,0], Xtrue[:,1], Ytrue, s=70, alpha=0.8)\r\n",
    "ax2.set_title(\"Dataset 3\")\r\n",
    "ax2.view_init(azim=30,elev=0)\r\n",
    "ax2.set_xlabel('X[:,0]')\r\n",
    "ax2.set_ylabel('X[:,1]')\r\n",
    "ax2.set_zlabel('Y')\r\n",
    "ax2.set_zlim([-80,80])\r\n",
    "\r\n",
    "Xd4, Yd4 = linearRegrFunction(n, D, low_D, high_D, w, sigma_noise=25)\r\n",
    "ax3.scatter3D(Xd4[:,0], Xd4[:,1], Yd4, s=70, alpha=0.8)\r\n",
    "ax3.scatter3D(Xtrue[:,0], Xtrue[:,1], Ytrue, s=70, alpha=0.8)\r\n",
    "ax3.set_title(\"Dataset 4\")\r\n",
    "ax3.view_init(azim=45,elev=0)\r\n",
    "ax3.set_xlabel('X[:,0]')\r\n",
    "ax3.set_ylabel('X[:,1]')\r\n",
    "ax3.set_zlabel('Y')\r\n",
    "ax3.set_zlim([-80,80])\r\n",
    "\r\n",
    "fig.tight_layout()"
   ],
   "outputs": [],
   "metadata": {}
  },
  {
   "cell_type": "markdown",
   "source": [
    "## Generating data for classification problems"
   ],
   "metadata": {}
  },
  {
   "cell_type": "markdown",
   "source": [
    "Let us play with the generation of 2D datasets for binary classification problems. We start by definying a function to generate datasets using 2D Gaussians.\n",
    "The use of the function is the following:\n",
    "##### X, Y = mixGauss(means, sigmas, n)\n",
    "where\n",
    "- <b>means</b> refers to the means of the Gaussian functions. It is in the form [m1,...mp], where p is the number of classes/Gaussian, and each mi is D-dimensional (e.g. D=2 for 2D data)  \n",
    "- <b>sigmas</b> refers to the standard deviations of the Gaussian functions. It is in the form [s1,...sp], where p is the number of classes/Gaussian (we assume standard deviation is the same for all dimensions)\n",
    "- <b>n</b> is the number of points for each class\n",
    "- <b>X</b>, <b>Y</b>: D-dimensional samples (X) associated with 1-dimensional output (Y). The latter is an array of labels, i.e. integers from the interval [0,p-1]\n",
    "<br>\n",
    "\n",
    "<b>EXAMPLE</b>: \n",
    "\n",
    "```X, Y = MixGauss([[0,1],[0,1]],[0.5, 0.25],1000)```\n",
    "\n",
    "generates a 2D dataset with two classes\n",
    "- the first one centered on (0,0) with standard deviation 0.5\n",
    "- the second one centered on (1,1) with standard deviation 0.25.\n",
    "Each class will contain 1000 points."
   ],
   "metadata": {}
  },
  {
   "cell_type": "code",
   "execution_count": null,
   "source": [
    "def mixGauss(means, sigmas, n):\r\n",
    "\r\n",
    "    means = np.array(means)\r\n",
    "    sigmas = np.array(sigmas)\r\n",
    "\r\n",
    "    d = means.shape[1]\r\n",
    "    num_classes = sigmas.size\r\n",
    "    data = np.full((n * num_classes, d), np.inf)\r\n",
    "    labels = np.zeros(n * num_classes)\r\n",
    "\r\n",
    "    for idx, sigma in enumerate(sigmas):\r\n",
    "        data[idx * n:(idx + 1) * n] = np.random.multivariate_normal(mean=means[idx], cov=np.eye(d) * sigmas[idx] ** 2,\r\n",
    "                                                                    size=n)\r\n",
    "        labels[idx * n:(idx + 1) * n] = idx \r\n",
    "        \r\n",
    "    if(num_classes == 2):\r\n",
    "        labels[labels==0] = -1\r\n",
    "\r\n",
    "    return data, labels"
   ],
   "outputs": [],
   "metadata": {}
  },
  {
   "cell_type": "markdown",
   "source": [
    "### Play with the data generator\n",
    "Try and generate different datasets, by changing the parameters of the Gaussians"
   ],
   "metadata": {}
  },
  {
   "cell_type": "code",
   "execution_count": null,
   "source": [
    "# Setup a plot in which the different sets can be shown and visually compared\r\n",
    "fig = plt.figure(figsize=(7,7)) \r\n",
    "ax0 = fig.add_subplot(2, 2, 1)\r\n",
    "ax1 = fig.add_subplot(2, 2, 2)\r\n",
    "ax2 = fig.add_subplot(2, 2, 3)\r\n",
    "ax3 = fig.add_subplot(2, 2, 4)\r\n",
    "\r\n",
    "# This is a Gaussian with center (mean) on the origin, and another one with center on the point (1,1).\r\n",
    "# Both of them have standard deviation equal to 0.25\r\n",
    "X1d, Y1d= mixGauss([[0,0], [1,1]], [0.25, 0.25], 100)\r\n",
    "ax0.set_title(\"Dataset 1\")\r\n",
    "ax0.scatter(X1d[:,0], X1d[:,1], s=70, c=Y1d, alpha=0.8)\r\n",
    "ax0.set_xlim((-3, 4))\r\n",
    "ax0.set_ylim((-2, 3))\r\n",
    "\r\n",
    "# GENERATE 3 FURTHER INSTANCES OF THE DATA KEEPING THE SAME AMOUNT \r\n",
    "#            OF POINTS BUT USING DIFFERENT PARAMETERS FOR THE GAUSSIAN\r\n",
    "# DATASET Xd2, Yd2 WITH centers in (0,0) and (3,2) and 0.25 as standard deviations for both\r\n",
    "# DATASET Xd3, Yd3 WITH centers in (0,0) and (3,2). The first Gaussian has standard deviation equal to 0.75,\r\n",
    "#                  the second one equal to 0.25\r\n",
    "# DATASET Xd4, Yd4 WITH centers in (0,0) and (1,1). The first Gaussian has standard deviation equal to 0.75,\r\n",
    "#                  the second one equal to 0.25\r\n",
    "# VISUALIZE THE OBTAINED POINTS ON DIFFERENT SUBPLOTS\r\n",
    "\r\n",
    "# Fill here...\r\n",
    "\r\n",
    "fig.tight_layout()"
   ],
   "outputs": [],
   "metadata": {
    "scrolled": false
   }
  },
  {
   "cell_type": "markdown",
   "source": [
    "## Adding noise to the binary classification dataset\n",
    "\n",
    "So far no noise have been added to the dataset. Let's add some using the function <b>flibLabels</b> that flips randomly selected labels of a binary classification problem. The use is the following\n",
    "\n",
    "##### Y_noisy = flipLabels(Y, perc)\n",
    "where\n",
    "- <b>Y</b> is the array of labels \n",
    "- <b>perc</b> is the percentage of labels to be flipped\n",
    "- <b>Y_noisy</b> is the array including the flipped labels "
   ],
   "metadata": {}
  },
  {
   "cell_type": "code",
   "execution_count": null,
   "source": [
    "def flipLabels(Y, perc):\r\n",
    "\r\n",
    "    if perc < 1 or perc > 100:\r\n",
    "        print(\"p should be a percentage value between 0 and 100.\")\r\n",
    "        return -1\r\n",
    "\r\n",
    "    if any(np.abs(Y) != 1):\r\n",
    "        print(\"The values of Ytr should be +1 or -1.\")\r\n",
    "        return -1\r\n",
    "\r\n",
    "    Y_noisy = np.copy(np.squeeze(Y))\r\n",
    "    if Y_noisy.ndim > 1:\r\n",
    "        print(\"Please supply a label array with only one dimension\")\r\n",
    "        return -1\r\n",
    "\r\n",
    "    n = Y_noisy.size\r\n",
    "    n_flips = int(np.floor(n * perc / 100))\r\n",
    "    idx_to_flip = np.random.choice(n, size=n_flips, replace=False)\r\n",
    "    Y_noisy[idx_to_flip] = -Y_noisy[idx_to_flip]\r\n",
    "\r\n",
    "    return Y_noisy"
   ],
   "outputs": [],
   "metadata": {}
  },
  {
   "cell_type": "markdown",
   "source": [
    "### Play with the noise in 2D datasets for binary classification\n",
    "Try and generate different datasets in which all parameters but the amount of noise are fixed. See what happens when you increase the percentage of flipped labels"
   ],
   "metadata": {}
  },
  {
   "cell_type": "code",
   "execution_count": null,
   "source": [
    "X1, Y1 = mixGauss([[0,0], [1,1]], [0.25, 0.25], 100)\r\n",
    "\r\n",
    "fig = plt.figure(figsize=(7,7)) \r\n",
    "ax0 = fig.add_subplot(2, 2, 1)\r\n",
    "ax1 = fig.add_subplot(2, 2, 2)\r\n",
    "ax2 = fig.add_subplot(2, 2, 3)\r\n",
    "ax3 = fig.add_subplot(2, 2, 4)\r\n",
    "\r\n",
    "Y1_n0 = flipLabels(Y1, 5)\r\n",
    "ax0.set_title(\"Flipping 5% labels\")\r\n",
    "ax0.scatter(X1[:,0], X1[:,1], s=70, c=Y1_n0, alpha=0.8)\r\n",
    "\r\n",
    "\r\n",
    "# GENERATE 3 FURTHER INSTANCES OF THE DATA KEEPING THE SAME PARAMETERS FOR ALL BUT \r\n",
    "#       THE PERCENTAGE OF FLIPPED LABELS\r\n",
    "# TRY WITH 10%, 30% AND 50% OF FLIPPINGS \r\n",
    "# VISUALIZE THE OBTAINED POINTS ON DIFFERENT SUBPLOTS\r\n",
    "\r\n",
    "# Fill here...\r\n",
    "\r\n",
    "fig.tight_layout()"
   ],
   "outputs": [],
   "metadata": {}
  },
  {
   "cell_type": "markdown",
   "source": [
    "### Generate a more complex dataset with Gaussians\n",
    "\n",
    "Let's generate a more complex binary dataset. To do it, follow the instructions below:\n",
    "- Call the function <i>mixGauss</i> and produce a 2D dataset with 4 classes: the classes must be centered on the corners of the unit square (0,0), (0,1), (1,1), (1,0), and all of them have standard deviation equal to 0.25\n",
    "- Plot the obtained dataset\n",
    "- Manipulate the data to obtain a 2-class problem where data on opposite corners belong to the same class with labels +1 and -1. <b>Hint</b>: you can dot that using Ytr="
   ],
   "metadata": {}
  },
  {
   "cell_type": "code",
   "execution_count": null,
   "source": [
    "X, Y4= mixGauss([[0,0], [0,1], [1,1], [1,0]], [0.2, 0.2, 0.2, 0.2], 100)\r\n",
    "\r\n",
    "fig = plt.figure(figsize=(10,7)) \r\n",
    "ax0 = fig.add_subplot(1, 2, 1)\r\n",
    "ax1 = fig.add_subplot(1, 2, 2)\r\n",
    "\r\n",
    "ax0.set_title(\"Dataset 1 - 4 classes\")\r\n",
    "ax0.scatter(X[:,0], X[:,1], s=70, c=Y4, alpha=0.8)\r\n",
    "\r\n",
    "Y2 = 2 * np.mod(Y4, 2) -1\r\n",
    "\r\n",
    "ax1.set_title(\"Dataset 2 - 2 classes\")\r\n",
    "ax1.scatter(X[:,0], X[:,1], s=70, c=Y2, alpha=0.8)\r\n",
    "\r\n",
    "plt.tight_layout()\r\n"
   ],
   "outputs": [],
   "metadata": {}
  },
  {
   "cell_type": "markdown",
   "source": [
    "### A different way of generating binary classification problems: using a separator\n",
    "\n",
    "Let's explore different strategies to generate datasets for binary classification, based on the concept of separators. \n",
    "\n",
    "Observe what happens as you change the number of sampled points"
   ],
   "metadata": {}
  },
  {
   "cell_type": "code",
   "execution_count": null,
   "source": [
    "n = 200 # number of points per class\r\n",
    "D = 2 # dimension of the points\r\n",
    "\r\n",
    "# linear case\r\n",
    "m = 0.9\r\n",
    "q = 0\r\n",
    "\r\n",
    "# bounds (assume they are the same for all dimensions)\r\n",
    "low_D = -10\r\n",
    "high_D = 10\r\n",
    "\r\n",
    "X = np.zeros((n, D))\r\n",
    "Y = np.zeros(n)\r\n",
    "\r\n",
    "# sampling of the X\r\n",
    "for i in range(D):\r\n",
    "    X[:,i] = np.random.uniform(low_D, high_D, size=n)\r\n",
    "    \r\n",
    "# assigning the labels depending on the position of the sample with respect to the linear separator\r\n",
    "Y[X[:,1] - (X[:,0] * m + q) > 0] = 1 \r\n",
    "Y[Y==0] = -1\r\n",
    "\r\n",
    "# add some noise\r\n",
    "Yn = flipLabels(Y, 10)\r\n",
    "\r\n",
    "# plot the samples and the separator\r\n",
    "plt.title(\"Linear, 10% flipped labels\")\r\n",
    "plt.scatter(X[:,0], X[:,1], s=70, c=Yn, alpha=0.8)\r\n",
    "plt.plot(X[:,0], X[:,0] * m + q)\r\n",
    "plt.xlim((low_D, high_D))\r\n",
    "plt.ylim((low_D, high_D))\r\n"
   ],
   "outputs": [],
   "metadata": {}
  }
 ],
 "metadata": {
  "kernelspec": {
   "name": "python3",
   "display_name": "Python 3.8.8 64-bit ('base': conda)"
  },
  "language_info": {
   "name": "python",
   "version": "3.9.6",
   "mimetype": "text/x-python",
   "codemirror_mode": {
    "name": "ipython",
    "version": 3
   },
   "pygments_lexer": "ipython3",
   "nbconvert_exporter": "python",
   "file_extension": ".py"
  },
  "toc": {
   "base_numbering": 1,
   "nav_menu": {},
   "number_sections": true,
   "sideBar": true,
   "skip_h1_title": false,
   "title_cell": "Table of Contents",
   "title_sidebar": "Contents",
   "toc_cell": false,
   "toc_position": {},
   "toc_section_display": true,
   "toc_window_display": false
  },
  "interpreter": {
   "hash": "287794a436fb62a782d416ba410ab216dd5c9a281ee48d1a608eb88c74be5837"
  }
 },
 "nbformat": 4,
 "nbformat_minor": 2
}